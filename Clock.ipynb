{
 "cells": [
  {
   "cell_type": "code",
   "execution_count": 1,
   "metadata": {},
   "outputs": [],
   "source": [
    "#clock program \n",
    "from tkinter import*\n",
    "from time import*\n",
    "\n",
    "def update():\n",
    "    time_string=strftime(\"%I:%M:%S %p\")#time function it converts a tuple representing the local time\n",
    "    time_label.config(text=time_string)\n",
    "    day_string=strftime(\"%A\")\n",
    "    day_label.config(text=day_string)\n",
    "    date_string=strftime(\"%B %d , %Y\")\n",
    "    date_label.config(text=date_string)\n",
    "\n",
    "\n",
    "    window.after(1000,update)\n",
    "\n",
    "window=Tk()\n",
    "\n",
    "time_label=Label(window,font=(\"Arial\",50),fg=\"white\",bg=\"black\")\n",
    "time_label.pack()\n",
    "\n",
    "day_label=Label(window,font=(\"Arial\",25))\n",
    "day_label.pack()\n",
    "\n",
    "date_label=Label(window,font=(\"Arial\",30))\n",
    "date_label.pack()\n",
    "\n",
    "update()\n",
    "\n",
    "window.mainloop()"
   ]
  }
 ],
 "metadata": {
  "kernelspec": {
   "display_name": "Python 3",
   "language": "python",
   "name": "python3"
  },
  "language_info": {
   "codemirror_mode": {
    "name": "ipython",
    "version": 3
   },
   "file_extension": ".py",
   "mimetype": "text/x-python",
   "name": "python",
   "nbconvert_exporter": "python",
   "pygments_lexer": "ipython3",
   "version": "3.10.7"
  },
  "orig_nbformat": 4
 },
 "nbformat": 4,
 "nbformat_minor": 2
}
